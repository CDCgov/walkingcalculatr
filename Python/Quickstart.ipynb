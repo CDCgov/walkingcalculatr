{
 "cells": [
  {
   "cell_type": "markdown",
   "metadata": {},
   "source": [
    "## Setup\n",
    "\n",
    "To get started with walkingcalculatr (Python), a Python environment (Python >= 3.8) must be set up with the required dependencies.\n",
    " \n",
    "### Local Environment\n",
    "\n",
    "Create a python environment in the terminal called **wc8r_env**:\n",
    "\n",
    "> python -m venv wc8r_env\\\n",
    "> source wc8r_env/bin/activate\n",
    "\n",
    "Within the environment, install required dependencies (as of August 2024) listed in **requirement.txt** or using **pip install**:\n",
    "\n",
    "> pip install -r requirements.txt\\\n",
    "**OR**\\\n",
    "> pip install ipykernel ipython pandas polars numpy path datetime pygris geopandas osmnx matplotlib pyarrow census us\n",
    "\n",
    "To add your environment to a Jupyter kernel, run the following:\n",
    "> ipython kernel install --user --name=wc8r_env\n",
    "\n",
    "Within the Jupyter notebook, the added environment/kernel can be connected via `kernel > change kernel`.\n",
    "After connecting to the **wc8r_env** kernel, we can import our required modules and functions for walk extraction as follows:"
   ]
  },
  {
   "cell_type": "code",
   "execution_count": 2,
   "metadata": {},
   "outputs": [],
   "source": [
    "from utils import *"
   ]
  },
  {
   "cell_type": "markdown",
   "metadata": {},
   "source": [
    "### Troubleshooting"
   ]
  },
  {
   "cell_type": "markdown",
   "metadata": {},
   "source": [
    "#### OSMNX / Requests (SSL error)\n",
    "\n",
    "The OSMNX package uses the **requests** package in Python which may run into SSL verification errors if the proper certifications are not added. The following code can be used to find the location of SSL certifications which should be updated accordingly. "
   ]
  },
  {
   "cell_type": "code",
   "execution_count": 14,
   "metadata": {},
   "outputs": [],
   "source": [
    "import certifi\n",
    "import ssl\n",
    "cert_loc = certifi.where()\n",
    "ctx = ssl._create_unverified_context(cafile=cert_loc)"
   ]
  },
  {
   "cell_type": "markdown",
   "metadata": {},
   "source": [
    "If the SSL certification is unable to be updated, the requests package (for OSMNX) can be bypassed by setting `verify = False` as shown below (not recommended)."
   ]
  },
  {
   "cell_type": "code",
   "execution_count": null,
   "metadata": {},
   "outputs": [],
   "source": [
    "ox.settings.requests_kwargs = {'verify': False}"
   ]
  },
  {
   "cell_type": "markdown",
   "metadata": {},
   "source": [
    "## 1. Reading in the Raw LBS Data"
   ]
  },
  {
   "cell_type": "code",
   "execution_count": 16,
   "metadata": {},
   "outputs": [],
   "source": [
    "# Read in csv or parquet\n",
    "SAMPLE_DATA = \"../data-raw/synthetic_ness_data.csv.gz\"\n",
    "df = pl.read_csv(SAMPLE_DATA)"
   ]
  },
  {
   "cell_type": "code",
   "execution_count": 4,
   "metadata": {},
   "outputs": [],
   "source": [
    "# Cast userID to categorical type\n",
    "df = df.with_columns(id = pl.col('id').cast(pl.Utf8))"
   ]
  },
  {
   "cell_type": "code",
   "execution_count": null,
   "metadata": {},
   "outputs": [],
   "source": [
    "df.head()"
   ]
  },
  {
   "cell_type": "markdown",
   "metadata": {},
   "source": [
    "## 2. Extracting Walks"
   ]
  },
  {
   "cell_type": "code",
   "execution_count": 5,
   "metadata": {},
   "outputs": [
    {
     "name": "stdout",
     "output_type": "stream",
     "text": [
      "['id', 'latitude', 'longitude', 'unix_timestamp', 'horizontal_accuracy']\n"
     ]
    },
    {
     "name": "stderr",
     "output_type": "stream",
     "text": [
      "/hawes/projects/PA-DEV/CDCENT/walkingcalculatr/Python/utils.py:215: CategoricalRemappingWarning: Local categoricals have different encodings, expensive re-encoding is done to perform this merge operation. Consider using a StringCache or an Enum type if the categories are known in advance\n",
      "  dfclean = df.select(pl.col(\"id\").str.to_lowercase().cast(pl.Categorical).alias('userId'),\n"
     ]
    }
   ],
   "source": [
    "# Calculate walks\n",
    "walks_df, record_counter = ExtractWalks(df)"
   ]
  },
  {
   "cell_type": "code",
   "execution_count": 6,
   "metadata": {},
   "outputs": [
    {
     "data": {
      "text/html": [
       "<div><style>\n",
       ".dataframe > thead > tr,\n",
       ".dataframe > tbody > tr {\n",
       "  text-align: right;\n",
       "  white-space: pre-wrap;\n",
       "}\n",
       "</style>\n",
       "<small>shape: (5, 9)</small><table border=\"1\" class=\"dataframe\"><thead><tr><th>userId</th><th>walkNum</th><th>lat</th><th>lon</th><th>time</th><th>accuracy</th><th>dist</th><th>vel</th><th>angle</th></tr><tr><td>cat</td><td>i64</td><td>f64</td><td>f64</td><td>i32</td><td>f64</td><td>f64</td><td>f64</td><td>f64</td></tr></thead><tbody><tr><td>&quot;4&quot;</td><td>17</td><td>38.45277</td><td>-99.899773</td><td>1625270606</td><td>0.0</td><td>NaN</td><td>NaN</td><td>NaN</td></tr><tr><td>&quot;4&quot;</td><td>17</td><td>38.457062</td><td>-99.896179</td><td>1625271310</td><td>0.0</td><td>571.275837</td><td>0.811471</td><td>0.390621</td></tr><tr><td>&quot;4&quot;</td><td>17</td><td>38.454128</td><td>-99.901657</td><td>1625271972</td><td>0.0</td><td>578.507136</td><td>0.873878</td><td>0.0</td></tr><tr><td>&quot;4&quot;</td><td>20</td><td>38.45277</td><td>-99.904449</td><td>1625542386</td><td>0.0</td><td>NaN</td><td>NaN</td><td>NaN</td></tr><tr><td>&quot;4&quot;</td><td>20</td><td>38.457088</td><td>-99.896248</td><td>1625543147</td><td>0.0</td><td>861.541232</td><td>1.132117</td><td>0.409166</td></tr></tbody></table></div>"
      ],
      "text/plain": [
       "shape: (5, 9)\n",
       "┌────────┬─────────┬───────────┬────────────┬───┬──────────┬────────────┬──────────┬──────────┐\n",
       "│ userId ┆ walkNum ┆ lat       ┆ lon        ┆ … ┆ accuracy ┆ dist       ┆ vel      ┆ angle    │\n",
       "│ ---    ┆ ---     ┆ ---       ┆ ---        ┆   ┆ ---      ┆ ---        ┆ ---      ┆ ---      │\n",
       "│ cat    ┆ i64     ┆ f64       ┆ f64        ┆   ┆ f64      ┆ f64        ┆ f64      ┆ f64      │\n",
       "╞════════╪═════════╪═══════════╪════════════╪═══╪══════════╪════════════╪══════════╪══════════╡\n",
       "│ 4      ┆ 17      ┆ 38.45277  ┆ -99.899773 ┆ … ┆ 0.0      ┆ NaN        ┆ NaN      ┆ NaN      │\n",
       "│ 4      ┆ 17      ┆ 38.457062 ┆ -99.896179 ┆ … ┆ 0.0      ┆ 571.275837 ┆ 0.811471 ┆ 0.390621 │\n",
       "│ 4      ┆ 17      ┆ 38.454128 ┆ -99.901657 ┆ … ┆ 0.0      ┆ 578.507136 ┆ 0.873878 ┆ 0.0      │\n",
       "│ 4      ┆ 20      ┆ 38.45277  ┆ -99.904449 ┆ … ┆ 0.0      ┆ NaN        ┆ NaN      ┆ NaN      │\n",
       "│ 4      ┆ 20      ┆ 38.457088 ┆ -99.896248 ┆ … ┆ 0.0      ┆ 861.541232 ┆ 1.132117 ┆ 0.409166 │\n",
       "└────────┴─────────┴───────────┴────────────┴───┴──────────┴────────────┴──────────┴──────────┘"
      ]
     },
     "execution_count": 6,
     "metadata": {},
     "output_type": "execute_result"
    }
   ],
   "source": [
    "# Show output\n",
    "walks_df.head()"
   ]
  },
  {
   "cell_type": "code",
   "execution_count": 7,
   "metadata": {},
   "outputs": [
    {
     "name": "stdout",
     "output_type": "stream",
     "text": [
      "649 329\n"
     ]
    }
   ],
   "source": [
    "print(walks_df.select('walkNum').unique().shape[0], walks_df.select('userId').unique().shape[0])"
   ]
  },
  {
   "cell_type": "code",
   "execution_count": 8,
   "metadata": {},
   "outputs": [],
   "source": [
    "# Cast polars to pandas dataframe\n",
    "walks_df = walks_df.to_pandas()"
   ]
  },
  {
   "cell_type": "markdown",
   "metadata": {},
   "source": [
    "## 3. Extracting Walkable Area Features by Census Tract\n",
    "\n",
    "Walkable areas are areas within census tracts such as parks, sidewalks, and footpaths which are identified and extracted from OpenStreetMaps (OSM). More information on the type of attributes available through OSM can be found [here](https://wiki.openstreetmap.org/wiki/Key:highway).\n",
    "\n",
    "To determine those walks within defined \"walkable\" areas, we\n",
    "can run the following `get_walkable_areas()` to get walkable areas from OSM for census tracts in __Ness, KS__. The **fill_size** parameter is the maximum area of holes to be removed from polygon."
   ]
  },
  {
   "cell_type": "code",
   "execution_count": 9,
   "metadata": {},
   "outputs": [
    {
     "name": "stdout",
     "output_type": "stream",
     "text": [
      "Using FIPS code '20' for input 'KS'\n",
      "Using FIPS code '20' for input 'KS'\n"
     ]
    },
    {
     "name": "stderr",
     "output_type": "stream",
     "text": [
      "/hawes/projects/PA-DEV/CDCENT/walkingcalculatr/Python/utils.py:535: UserWarning: Geometry is in a geographic CRS. Results from 'buffer' are likely incorrect. Use 'GeoSeries.to_crs()' to re-project geometries to a projected CRS before this operation.\n",
      "\n",
      "  county_tracts['buffer_geometry'] = county_tracts['geometry'].buffer(500E-5)\n"
     ]
    }
   ],
   "source": [
    "tract_area_lst = get_walkable_areas(county_name = 'Ness', county_state = 'KS',  year = 2023, fill_size = 200E-6)"
   ]
  },
  {
   "cell_type": "code",
   "execution_count": 10,
   "metadata": {},
   "outputs": [
    {
     "data": {
      "text/plain": [
       "<Axes: >"
      ]
     },
     "execution_count": 10,
     "metadata": {},
     "output_type": "execute_result"
    },
    {
     "data": {
      "image/png": "[encoded data removed]",
      "text/plain": [
       "<Figure size 640x480 with 1 Axes>"
      ]
     },
     "metadata": {},
     "output_type": "display_data"
    }
   ],
   "source": [
    "# Plot walkable areas\n",
    "tract_area_lst.geometry.plot()"
   ]
  },
  {
   "cell_type": "markdown",
   "metadata": {},
   "source": [
    "## 4. Checking if Extracted Walk Trips are in Walkable Areas\n",
    "\n",
    "Given the walkable shapefiles generated, we can find determine which walks have a defined threshold percentage of pings within walkable areas. When defining walks in walkable areas as walks that have 75% of their pings in the walkable areas found in `get_walkable_areas()`, the resulting dataset gives us 561 unique walks."
   ]
  },
  {
   "cell_type": "code",
   "execution_count": 11,
   "metadata": {},
   "outputs": [],
   "source": [
    "walks_in_walkable = get_walkable(walks_df, tract_area_lst)"
   ]
  },
  {
   "cell_type": "code",
   "execution_count": 12,
   "metadata": {},
   "outputs": [],
   "source": [
    "# Filter to walks given a certain threshold\n",
    "final_walks = walks_in_walkable[walks_in_walkable.pct_walkable > 0.75].reset_index(drop = True)"
   ]
  },
  {
   "cell_type": "markdown",
   "metadata": {},
   "source": [
    "We can then get a general metric summary of the resulting data. \n",
    "From the below table, you can see that the `total_walks_in_walkable_areas` for Ness County, KS is 566."
   ]
  },
  {
   "cell_type": "code",
   "execution_count": 13,
   "metadata": {},
   "outputs": [
    {
     "data": {
      "text/html": [
       "<div>\n",
       "<style scoped>\n",
       "    .dataframe tbody tr th:only-of-type {\n",
       "        vertical-align: middle;\n",
       "    }\n",
       "\n",
       "    .dataframe tbody tr th {\n",
       "        vertical-align: top;\n",
       "    }\n",
       "\n",
       "    .dataframe thead th {\n",
       "        text-align: right;\n",
       "    }\n",
       "</style>\n",
       "<table border=\"1\" class=\"dataframe\">\n",
       "  <thead>\n",
       "    <tr style=\"text-align: right;\">\n",
       "      <th></th>\n",
       "      <th>Count</th>\n",
       "    </tr>\n",
       "  </thead>\n",
       "  <tbody>\n",
       "    <tr>\n",
       "      <th>Number of Walks</th>\n",
       "      <td>649</td>\n",
       "    </tr>\n",
       "    <tr>\n",
       "      <th>Number of Walks in Walkable Areas</th>\n",
       "      <td>566</td>\n",
       "    </tr>\n",
       "    <tr>\n",
       "      <th>Number of Pings</th>\n",
       "      <td>1889</td>\n",
       "    </tr>\n",
       "    <tr>\n",
       "      <th>Number of Devices</th>\n",
       "      <td>301</td>\n",
       "    </tr>\n",
       "  </tbody>\n",
       "</table>\n",
       "</div>"
      ],
      "text/plain": [
       "                                   Count\n",
       "Number of Walks                      649\n",
       "Number of Walks in Walkable Areas    566\n",
       "Number of Pings                     1889\n",
       "Number of Devices                    301"
      ]
     },
     "execution_count": 13,
     "metadata": {},
     "output_type": "execute_result"
    }
   ],
   "source": [
    "num_walks = len(walks_df['walkNum'].unique())\n",
    "num_walks_in_walkable = len(final_walks.walkNum.unique())\n",
    "num_pings = final_walks.shape[0]\n",
    "num_devices = len(final_walks.userId.unique())\n",
    "\n",
    "summary_df = pd.DataFrame([num_walks, num_walks_in_walkable, num_pings, num_devices], \n",
    "                          index = ['Number of Walks',  'Number of Walks in Walkable Areas',  'Number of Pings', 'Number of Devices'], \n",
    "                          columns = ['Count'])\n",
    "summary_df"
   ]
  }
 ],
 "metadata": {
  "kernelspec": {
   "display_name": "wc8r_env",
   "language": "python",
   "name": "wc8r_env"
  },
  "language_info": {
   "codemirror_mode": {
    "name": "ipython",
    "version": 3
   },
   "file_extension": ".py",
   "mimetype": "text/x-python",
   "name": "python",
   "nbconvert_exporter": "python",
   "pygments_lexer": "ipython3",
   "version": "3.8.13"
  }
 },
 "nbformat": 4,
 "nbformat_minor": 2
}
